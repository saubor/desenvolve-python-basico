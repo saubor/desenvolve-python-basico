{
 "cells": [
  {
   "cell_type": "markdown",
   "id": "29e89030",
   "metadata": {},
   "source": [
    "# Módulo 4 - Repetições\n",
    "\n",
    "## Aulas 4.2 - Comando ```for``` e 4.3 Break e Continue"
   ]
  },
  {
   "cell_type": "markdown",
   "id": "a45b42df",
   "metadata": {},
   "source": [
    "### Q1.\n",
    "\n",
    "Crie um programa em Python que utilize o comando for para imprimir os números de 10 a 1, em ordem decrescente."
   ]
  },
  {
   "cell_type": "code",
   "execution_count": 1,
   "id": "55a75b3d",
   "metadata": {},
   "outputs": [
    {
     "name": "stdout",
     "output_type": "stream",
     "text": [
      "10\n",
      "9\n",
      "8\n",
      "7\n",
      "6\n",
      "5\n",
      "4\n",
      "3\n",
      "2\n",
      "1\n"
     ]
    }
   ],
   "source": [
    "## Escreva e execute seu código aqui\n",
    "\n",
    "for i in range (10 , 0 , -1):\n",
    "    print(i)\n",
    "\n",
    "\n",
    "\n",
    "\n"
   ]
  },
  {
   "cell_type": "markdown",
   "id": "94b47c36",
   "metadata": {},
   "source": [
    "### Q2.\n",
    "\n",
    "Dado um número inteiro positivo informado pelo usuário, crie um programa em Python que utilize o comando for para calcular e exibir a soma dos números de 1 até o número informado. Ou seja, $1 + 2 + 3 + ... + n$\n",
    "\n",
    "Exemplo de interação:\n",
    "```\n",
    "Digite um número: 5\n",
    "A soma dos números de 1 a 5 é 15\n",
    "```\n"
   ]
  },
  {
   "cell_type": "code",
   "execution_count": 12,
   "id": "45b71596",
   "metadata": {},
   "outputs": [
    {
     "name": "stdin",
     "output_type": "stream",
     "text": [
      "Digite um número inteiro positivo:  5\n"
     ]
    },
    {
     "name": "stdout",
     "output_type": "stream",
     "text": [
      "A soma dos números de 1 até 5 é 15.\n"
     ]
    }
   ],
   "source": [
    "## Escreva e execute seu código aqui\n",
    "\n",
    "numero = int(input(\"Digite um número inteiro positivo: \"))\n",
    "\n",
    "soma = 0\n",
    "for i in range(1, numero + 1):\n",
    "    soma += i\n",
    "\n",
    "print(f\"A soma dos números de 1 até {numero} é {soma}.\")\n"
   ]
  },
  {
   "cell_type": "markdown",
   "id": "0411d170",
   "metadata": {},
   "source": [
    "### Q3.\n",
    "\n",
    "Escreva um programa que lê 10 valores inteiros positivos do usuário e ao final imprime a média dos valores digitados com duas casas decimais.\n",
    "\n",
    "```\n",
    "Digite 10 números positivos:\n",
    "3\n",
    "2\n",
    "12\n",
    "14\n",
    "20\n",
    "42\n",
    "19\n",
    "0\n",
    "8\n",
    "1\n",
    "A média dos valores digitados é 12.10\n",
    "```"
   ]
  },
  {
   "cell_type": "code",
   "execution_count": 15,
   "id": "3f72f358",
   "metadata": {},
   "outputs": [
    {
     "name": "stdin",
     "output_type": "stream",
     "text": [
      "Digite 10 números:  3\n",
      "Digite 10 números:  2\n",
      "Digite 10 números:  12\n",
      "Digite 10 números:  14\n",
      "Digite 10 números:  20\n",
      "Digite 10 números:  42\n",
      "Digite 10 números:  19\n",
      "Digite 10 números:  0\n",
      "Digite 10 números:  8\n",
      "Digite 10 números:  1\n"
     ]
    },
    {
     "name": "stdout",
     "output_type": "stream",
     "text": [
      "A média dos valores digitados é 12.10\n"
     ]
    }
   ],
   "source": [
    "## Escreva e execute seu código aqui\n",
    "\n",
    "soma = 0\n",
    "\n",
    "for i in range (10):\n",
    "    numeros= int(input(\"Digite 10 números: \"))\n",
    "    soma += numeros\n",
    "\n",
    "media = soma/10\n",
    "print(f\"A média dos valores digitados é {media:.2f}\")"
   ]
  },
  {
   "cell_type": "markdown",
   "id": "d62e27ff",
   "metadata": {},
   "source": [
    "### Q4.\n",
    "\n",
    "Você vai criar um sistema que registra os resultados dos jogos do Atlético MG ao longo de um campeonato. Seu sistema vai receber os resultados de todos os jogos do Galo, e deve calcular a pontuação do time sabendo que vitórias valem 3 pontos, empates 1 ponto e derrotas 0 pontos.\n",
    "\n",
    "Entrada: <br>\n",
    "A primeira linha de entrada é um inteiro N com a quantidade jogos do galo. Para cada jogo você deve ler 2 inteiros, o primeiro com a quantidade de gols do galo e o segundo com a quantidade de gols do time oponente. \n",
    "\n",
    "Saída: <br>\n",
    "Apresente a soma de vitórias, empates e derrotas do galo, junto com o cálculo da pontuação total.\n",
    "\n",
    "Ex:\n",
    "```\n",
    "Entrada:\n",
    "4\n",
    "2\n",
    "0\n",
    "1\n",
    "1\n",
    "0\n",
    "3\n",
    "1\n",
    "0\n",
    "\n",
    "Saída:\n",
    "Vitórias: 2\n",
    "Empates: 1\n",
    "Derrotas: 1\n",
    "Pontuação: 7\n",
    "\n",
    "```\n",
    "\n",
    "\n"
   ]
  },
  {
   "cell_type": "code",
   "execution_count": 21,
   "id": "d3fdfc2a",
   "metadata": {},
   "outputs": [
    {
     "name": "stdin",
     "output_type": "stream",
     "text": [
      "Digite a quantidade de jogos do galo:  4\n",
      "Digite a quantidade de gols do galo:  2\n",
      "Digite a quantidade de gols do time inimigo:  0\n",
      "Digite a quantidade de gols do galo:  1\n",
      "Digite a quantidade de gols do time inimigo:  1\n",
      "Digite a quantidade de gols do galo:  0\n",
      "Digite a quantidade de gols do time inimigo:  3\n",
      "Digite a quantidade de gols do galo:  1\n",
      "Digite a quantidade de gols do time inimigo:  0\n"
     ]
    },
    {
     "name": "stdout",
     "output_type": "stream",
     "text": [
      "Vitorias: 2\n",
      "derrotas: 1\n",
      "empate: 1\n",
      "pontuação: 7\n"
     ]
    }
   ],
   "source": [
    "## Escreva e execute seu código aqui\n",
    "\n",
    "n = int(input(\"Digite a quantidade de jogos do galo: \"))\n",
    "g = 0\n",
    "gi = 0\n",
    "vitoria = 0\n",
    "empate = 0\n",
    "derrota = 0\n",
    "\n",
    "for i in range (n):\n",
    "    g = int(input(\"Digite a quantidade de gols do galo: \"))\n",
    "    gi = int(input(\"Digite a quantidade de gols do time inimigo: \"))\n",
    "    if g > gi:\n",
    "             vitoria += 1\n",
    "    elif g < gi:\n",
    "        derrota += 1\n",
    "    else:\n",
    "        empate += 1\n",
    "\n",
    "pontuação = (vitoria * 3) + empate\n",
    "\n",
    "print(f\"Vitorias: {vitoria}\")\n",
    "print(f\"derrotas: {derrota}\")\n",
    "print(f\"empate: {empate}\")\n",
    "print(f\"pontuação: {pontuação}\")"
   ]
  },
  {
   "cell_type": "markdown",
   "id": "fc98604d",
   "metadata": {},
   "source": [
    "### Q5.\n",
    "\n",
    "Faça um programa que lê dois inteiros N e M, e imprime na tela um campo de batalha naval. O tabuleiro deve possuir N linhas e M colunas. A primeira linha é composta por um espaço em branco e o cabeçalho das colunas, ou seja, valores de 1 a M. As N linhas seguintes iniciam com o cabeçalho da linha, ou seja, seu número, seguido de M caracteres \"/\" (barra) indicando uma possível posição jogável. \n",
    "\n",
    "```\n",
    "Entrada:\n",
    "5\n",
    "4\n",
    "\n",
    "Saída:\n",
    "  1 2 3 4 \n",
    "1 / / / / \n",
    "2 / / / / \n",
    "3 / / / / \n",
    "4 / / / / \n",
    "5 / / / / \n",
    "```\n",
    "\n",
    "Para esse exercício, precisamos lembrar que o comando print implicitamente adiciona uma quebra de linha ao final da impressão. Podemos interferir no final da impressão adicionando mais uma entrada ao print. No exemplo, finalizamos cada linha com um espaço em branco:\n",
    "```python\n",
    "print(\"Texto qualquer\", end = \" \")\n",
    "```"
   ]
  },
  {
   "cell_type": "code",
   "execution_count": 36,
   "id": "a60ef197",
   "metadata": {},
   "outputs": [
    {
     "name": "stdin",
     "output_type": "stream",
     "text": [
      "Digite o número de linhas:  5\n",
      "Digite o número de colunas:  4\n"
     ]
    },
    {
     "name": "stdout",
     "output_type": "stream",
     "text": [
      "  1 2 3 4 \n",
      "1 / / / / \n",
      "2 / / / / \n",
      "3 / / / / \n",
      "4 / / / / \n",
      "5 / / / / \n"
     ]
    }
   ],
   "source": [
    "## Escreva e execute seu código aqui\n",
    "def campo_de_batalha(N, M):\n",
    "    # Imprime cabeçalho das colunas\n",
    "    print(\" \", end=\" \")\n",
    "    for i in range(1, M + 1):\n",
    "        print(i, end=\" \")\n",
    "    print()\n",
    "\n",
    "    # Imprime as linhas do campo de batalha\n",
    "    for i in range(1, N + 1):\n",
    "        print(i, end=\" \")\n",
    "        for j in range(M):\n",
    "            print(\"/\", end=\" \")\n",
    "        print()\n",
    "\n",
    "# Lê os inteiros N e M\n",
    "N = int(input(\"Digite o número de linhas: \"))\n",
    "M = int(input(\"Digite o número de colunas: \"))\n",
    "campo_de_batalha(N, M)"
   ]
  },
  {
   "cell_type": "markdown",
   "id": "4654dc0b",
   "metadata": {},
   "source": [
    "---\n",
    "## Break e Continue"
   ]
  },
  {
   "cell_type": "markdown",
   "id": "24fe9d85",
   "metadata": {},
   "source": [
    "### Q6.\n",
    "\n",
    "Escreva um programa que lê uma quantidade indefinida de valores e informa o maior e o menor valor digitados. A leitura é encerrada quando o usuário digitar o valor 0 (zero).\n",
    "\n",
    "```\n",
    "Entrada:\n",
    "12\n",
    "-1\n",
    "29\n",
    "11\n",
    "-5\n",
    "0\n",
    "\n",
    "Saída:\n",
    "Maior: 29\n",
    "Menor: -5\n",
    "```"
   ]
  },
  {
   "cell_type": "code",
   "execution_count": 37,
   "id": "ee1c466a",
   "metadata": {},
   "outputs": [
    {
     "name": "stdin",
     "output_type": "stream",
     "text": [
      "Digite um valor (digite 0 para encerrar):  5\n",
      "Digite um valor (digite 0 para encerrar):  1\n",
      "Digite um valor (digite 0 para encerrar):  256\n",
      "Digite um valor (digite 0 para encerrar):  895\n",
      "Digite um valor (digite 0 para encerrar):  4894\n",
      "Digite um valor (digite 0 para encerrar):  1\n",
      "Digite um valor (digite 0 para encerrar):  23\n",
      "Digite um valor (digite 0 para encerrar):  51\n",
      "Digite um valor (digite 0 para encerrar):  0\n"
     ]
    },
    {
     "name": "stdout",
     "output_type": "stream",
     "text": [
      "O maior valor digitado foi: 4894.0\n",
      "O menor valor digitado foi: 1.0\n"
     ]
    }
   ],
   "source": [
    "## Escreva e execute seu código aqui\n",
    "\n",
    "\n",
    "maior_valor = menor_valor = None\n",
    "\n",
    "while True:\n",
    "    valor = float(input(\"Digite um valor (digite 0 para encerrar): \"))\n",
    "\n",
    "    if valor == 0:\n",
    "        break\n",
    "    \n",
    "    \n",
    "    if maior_valor is None or valor > maior_valor:\n",
    "        maior_valor = valor\n",
    "    if menor_valor is None or valor < menor_valor:\n",
    "        menor_valor = valor\n",
    "\n",
    "\n",
    "if maior_valor is not None and menor_valor is not None:\n",
    "    print(f\"O maior valor digitado foi: {maior_valor}\")\n",
    "    print(f\"O menor valor digitado foi: {menor_valor}\")\n",
    "else:\n",
    "    print(\"Nenhum valor foi digitado.\")\n",
    "\n"
   ]
  },
  {
   "cell_type": "markdown",
   "id": "30d486f7",
   "metadata": {},
   "source": [
    "### Q7.\n",
    "\n",
    "Escreva um programa que lê uma quantidade indefinida de valores e informa o **produto** dos valores positivos digitados. A leitura é encerrada quando o usuário digitar o valor 0 (zero).\n",
    "\n",
    "```\n",
    "Entrada:\n",
    "2\n",
    "-1\n",
    "1\n",
    "3\n",
    "-5\n",
    "0\n",
    "\n",
    "Saída:\n",
    "Produto: 6\n",
    "```"
   ]
  },
  {
   "cell_type": "code",
   "execution_count": null,
   "id": "2f1ac324",
   "metadata": {},
   "outputs": [],
   "source": [
    "## Escreva e execute seu código aqui\n",
    "\n",
    "produto_positivos = 1\n",
    "\n",
    "while True:\n",
    "    valor = float(input(\"Digite um valor (digite 0 para encerrar): \"))\n",
    "    \n",
    "    if valor == 0:\n",
    "        break\n",
    "    \n",
    "    if valor > 0:\n",
    "        produto_positivos *= valor\n",
    "\n",
    "print(f\"O produto dos valores positivos digitados é: {produto_positivos}\")\n"
   ]
  },
  {
   "cell_type": "markdown",
   "id": "e932f3cf",
   "metadata": {},
   "source": [
    "### Q8.\n",
    "\n",
    "Vamos fazer uma calculadora que aceita expressões aritméticas de qualquer tamanho até que o usuário digite a palavra \"Fim\". Sua calculadora executa apenas as operações \"+\", \"-\".\n",
    "\n",
    "```\n",
    "Entrada:\n",
    "5\n",
    "+\n",
    "8\n",
    "-\n",
    "3\n",
    "+\n",
    "2\n",
    "Fim\n",
    "\n",
    "Saída:\n",
    "12\n",
    "```"
   ]
  },
  {
   "cell_type": "code",
   "execution_count": 40,
   "id": "e835d870",
   "metadata": {},
   "outputs": [
    {
     "name": "stdin",
     "output_type": "stream",
     "text": [
      "Digite uma expressão aritmética (ou 'Fim' para encerrar):  56-2-18-9\n"
     ]
    },
    {
     "name": "stdout",
     "output_type": "stream",
     "text": [
      "Resultado: 27\n"
     ]
    },
    {
     "name": "stdin",
     "output_type": "stream",
     "text": [
      "Digite uma expressão aritmética (ou 'Fim' para encerrar):  fim\n"
     ]
    }
   ],
   "source": [
    "## Escreva e execute seu código aqui\n",
    "\n",
    "def calcular(expressao):\n",
    "    expressao = expressao.replace(\"+\", \" + \").replace(\"-\", \" - \")\n",
    "    return eval(expressao)\n",
    "\n",
    "while True:\n",
    "    expressao = input(\"Digite uma expressão aritmética (ou 'Fim' para encerrar): \")\n",
    "    \n",
    "    if expressao.lower() == \"fim\":\n",
    "        break\n",
    "    \n",
    "    resultado = calcular(expressao)\n",
    "    print(\"Resultado:\", resultado)\n"
   ]
  },
  {
   "cell_type": "code",
   "execution_count": null,
   "id": "66967ab7-89ec-4220-a7f7-84c446541f51",
   "metadata": {},
   "outputs": [],
   "source": []
  }
 ],
 "metadata": {
  "kernelspec": {
   "display_name": "Python 3 (ipykernel)",
   "language": "python",
   "name": "python3"
  },
  "language_info": {
   "codemirror_mode": {
    "name": "ipython",
    "version": 3
   },
   "file_extension": ".py",
   "mimetype": "text/x-python",
   "name": "python",
   "nbconvert_exporter": "python",
   "pygments_lexer": "ipython3",
   "version": "3.12.3"
  }
 },
 "nbformat": 4,
 "nbformat_minor": 5
}
